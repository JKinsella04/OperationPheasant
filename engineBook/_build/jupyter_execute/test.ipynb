{
 "cells": [
  {
   "cell_type": "code",
   "execution_count": 1,
   "metadata": {},
   "outputs": [
    {
     "ename": "NameError",
     "evalue": "name 'null' is not defined",
     "output_type": "error",
     "traceback": [
      "\u001b[0;31m---------------------------------------------------------------------------\u001b[0m",
      "\u001b[0;31mNameError\u001b[0m                                 Traceback (most recent call last)",
      "\u001b[0;32m<ipython-input-1-53aa311c9b13>\u001b[0m in \u001b[0;36m<module>\u001b[0;34m\u001b[0m\n\u001b[1;32m      3\u001b[0m   {\n\u001b[1;32m      4\u001b[0m    \u001b[0;34m\"cell_type\"\u001b[0m\u001b[0;34m:\u001b[0m \u001b[0;34m\"code\"\u001b[0m\u001b[0;34m,\u001b[0m\u001b[0;34m\u001b[0m\u001b[0;34m\u001b[0m\u001b[0m\n\u001b[0;32m----> 5\u001b[0;31m    \u001b[0;34m\"execution_count\"\u001b[0m\u001b[0;34m:\u001b[0m \u001b[0mnull\u001b[0m\u001b[0;34m,\u001b[0m\u001b[0;34m\u001b[0m\u001b[0;34m\u001b[0m\u001b[0m\n\u001b[0m\u001b[1;32m      6\u001b[0m    \u001b[0;34m\"metadata\"\u001b[0m\u001b[0;34m:\u001b[0m \u001b[0;34m{\u001b[0m\u001b[0;34m}\u001b[0m\u001b[0;34m,\u001b[0m\u001b[0;34m\u001b[0m\u001b[0;34m\u001b[0m\u001b[0m\n\u001b[1;32m      7\u001b[0m    \u001b[0;34m\"outputs\"\u001b[0m\u001b[0;34m:\u001b[0m \u001b[0;34m[\u001b[0m\u001b[0;34m]\u001b[0m\u001b[0;34m,\u001b[0m\u001b[0;34m\u001b[0m\u001b[0;34m\u001b[0m\u001b[0m\n",
      "\u001b[0;31mNameError\u001b[0m: name 'null' is not defined"
     ]
    }
   ],
   "source": [
    "{\n",
    " \"cells\": [\n",
    "  {\n",
    "   \"cell_type\": \"code\",\n",
    "   \"execution_count\": null,\n",
    "   \"metadata\": {},\n",
    "   \"outputs\": [],\n",
    "   \"source\": [\n",
    "    \"import chart_studio.plotly as py\\n\",\n",
    "    \"import numpy as np\\n\",\n",
    "    \"\\n\",\n",
    "    \"data = [dict(\\n\",\n",
    "    \"        visible = False,\\n\",\n",
    "    \"        line=dict(color='#00CED1', width=6),\\n\",\n",
    "    \"        name = '𝜈 = '+str(step),\\n\",\n",
    "    \"        x = np.arange(0,10,0.01),\\n\",\n",
    "    \"        y = np.sin(step*np.arange(0,10,0.01))) for step in np.arange(0,5,0.1)]\\n\",\n",
    "    \"data[10]['visible'] = True\\n\",\n",
    "    \"\\n\",\n",
    "    \"steps = []\\n\",\n",
    "    \"for i in range(len(data)):\\n\",\n",
    "    \"    step = dict(\\n\",\n",
    "    \"        method = 'restyle',\\n\",\n",
    "    \"        args = ['visible', [False] * len(data)],\\n\",\n",
    "    \"    )\\n\",\n",
    "    \"    step['args'][1][i] = True # Toggle i'th trace to \\\"visible\\\"\\n\",\n",
    "    \"    steps.append(step)\\n\",\n",
    "    \"\\n\",\n",
    "    \"sliders = [dict(\\n\",\n",
    "    \"    active = 10,\\n\",\n",
    "    \"    currentvalue = {\\\"prefix\\\": \\\"Frequency: \\\"},\\n\",\n",
    "    \"    pad = {\\\"t\\\": 50},\\n\",\n",
    "    \"    steps = steps\\n\",\n",
    "    \")]\\n\",\n",
    "    \"\\n\",\n",
    "    \"layout = dict(sliders=sliders)\\n\",\n",
    "    \"fig = dict(data=data, layout=layout)\\n\",\n",
    "    \"\\n\",\n",
    "    \"py.iplot(fig, filename='Sine Wave Slider')\"\n",
    "   ]\n",
    "  }\n",
    " ],\n",
    " \"metadata\": {\n",
    "  \"kernelspec\": {\n",
    "   \"display_name\": \"Python 3\",\n",
    "   \"language\": \"python\",\n",
    "   \"name\": \"python3\"\n",
    "  },\n",
    "  \"language_info\": {\n",
    "   \"codemirror_mode\": {\n",
    "    \"name\": \"ipython\",\n",
    "    \"version\": 3\n",
    "   },\n",
    "   \"file_extension\": \".py\",\n",
    "   \"mimetype\": \"text/x-python\",\n",
    "   \"name\": \"python\",\n",
    "   \"nbconvert_exporter\": \"python\",\n",
    "   \"pygments_lexer\": \"ipython3\",\n",
    "   \"version\": \"3.7.4\"\n",
    "  }\n",
    " },\n",
    " \"nbformat\": 4,\n",
    " \"nbformat_minor\": 4\n",
    "}"
   ]
  }
 ],
 "metadata": {
  "language_info": {
   "codemirror_mode": {
    "name": "ipython",
    "version": 3
   },
   "file_extension": ".py",
   "mimetype": "text/x-python",
   "name": "python",
   "nbconvert_exporter": "python",
   "pygments_lexer": "ipython3",
   "version": "3.7.4"
  }
 },
 "nbformat": 4,
 "nbformat_minor": 2
}