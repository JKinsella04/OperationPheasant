{
 "cells": [
  {
   "cell_type": "markdown",
   "metadata": {},
   "source": [
    "# January Progress Entries\n",
    "## January Timeline\n",
    "<img src=\"././_images/1-January/1-5-21/January_calendar.png\" alt=\"January_calendar.png\"/>\n",
    "\n",
    "### Completed Goals\n",
    "- 15 second auton routine\n",
    "\n",
    "### Remaing goals for West Ashley Tournament\n",
    "- 60 second auton routine \n",
    "- 126 driver skills \n",
    "- Autonomous rotine with 3859W\n",
    "\n",
    "## 1/5/2021\n",
    "### Attendance: &#9744; Brody, &#9744; Derek, &#9744; Dylan, &#9744; Ian, &#9745; Jack\n",
    "Today we revised our slew code for our lateral movements. Our previous slew code was linear and we passed the rate that served as the slope of the slew code. We wanted to redo our slew code because we found it to be too slow at the beginning and that it accelerates too fast at the end. Kent from team 901J, a team from Japan was nice enough to show us a limit function that works similar to our needs. Upon testing this code we are very happy with it's performance as it fixes the problems we had with our pure linear approach. It is faster as the beginning but becomes weaker at the half way mark.\n",
    "\n",
    "<img src=\"././_images/1-January/1-5-21/new_slew_code.PNG\" alt=\"new_slew_code.PNG\" style=\"width: 500px;\"/>"
   ]
  }
 ],
 "metadata": {
  "jupytext": {
   "cell_metadata_filter": "-all",
   "formats": "md:myst",
   "text_representation": {
    "extension": ".md",
    "format_name": "myst",
    "format_version": 0.12,
    "jupytext_version": "1.6.0"
   }
  },
  "kernelspec": {
   "display_name": "Python 3",
   "language": "python",
   "name": "python3"
  },
  "language_info": {
   "codemirror_mode": {
    "name": "ipython",
    "version": 3
   },
   "file_extension": ".py",
   "mimetype": "text/x-python",
   "name": "python",
   "nbconvert_exporter": "python",
   "pygments_lexer": "ipython3",
   "version": "3.7.4"
  },
  "source_map": [
   7
  ]
 },
 "nbformat": 4,
 "nbformat_minor": 4
}