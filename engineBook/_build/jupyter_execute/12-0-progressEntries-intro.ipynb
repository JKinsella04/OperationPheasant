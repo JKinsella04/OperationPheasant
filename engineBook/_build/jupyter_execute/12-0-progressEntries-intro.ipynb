{
 "cells": [
  {
   "cell_type": "markdown",
   "metadata": {},
   "source": [
    "# 9447H Progress Entries\n",
    "<img src=\"././_images/beginning/v1logo.png\" alt=\"/images/beginning/v1logo.png\" width=\"1000px;\" />\n",
    "\n",
    "## Progress Entry Formatting\n",
    "Our Progress Entries are separated into different sections by month for ease of viewing. They will start on the next page!"
   ]
  }
 ],
 "metadata": {
  "jupytext": {
   "cell_metadata_filter": "-all",
   "formats": "md:myst",
   "text_representation": {
    "extension": ".md",
    "format_name": "myst",
    "format_version": 0.12,
    "jupytext_version": "1.6.0"
   }
  },
  "kernelspec": {
   "display_name": "Python 3",
   "language": "python",
   "name": "python3"
  },
  "language_info": {
   "codemirror_mode": {
    "name": "ipython",
    "version": 3
   },
   "file_extension": ".py",
   "mimetype": "text/x-python",
   "name": "python",
   "nbconvert_exporter": "python",
   "pygments_lexer": "ipython3",
   "version": "3.7.4"
  },
  "source_map": [
   7
  ]
 },
 "nbformat": 4,
 "nbformat_minor": 4
}