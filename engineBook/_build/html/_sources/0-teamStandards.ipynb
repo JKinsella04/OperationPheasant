{
 "cells": [
  {
   "cell_type": "markdown",
   "metadata": {},
   "source": [
    "# 9447H Team Standards\n",
    "\n",
    "We have standards that we follow when doing anything and everything for robotics. For Building we follow the Engineering Design Process.\n",
    "\n",
    "<img src=\"../../images/beginning/designProcess.png\" alt=\"designProcess.png\" style=\"width: 500px;\"/>\n",
    "\n",
    "This photo accurately represents the general Engingeering Process, but we can explain it more specifically. \n",
    "During the *Research Ideas/Explore Possibilities* phase we will look at vexforum.com and reveal videos publicly posted on youtube to see if/what kinds of solutions have been published regarding the problem. During the *Make a Model or Prototype* phase we will first make a CAD of the idea to figure out the idea completley before spending resources on it. After this we will make the physical prototype. \n",
    "\n",
    "When programming we follow a routine we created called the **Whiteboard Routine**\n",
    "- First you write what you want to achieve on the whiteboard\n",
    "- Then begin writing the general logic for that problem on the whiteboard\n",
    "- Then we transfer the logic from the whiteboard to PROS and download the code to the robot\n",
    "- Next, we Debug the code by logging what it achieves and doesn't achieve on the whiteboard\n",
    "- Rewrite any new logic on the whiteboard and then into the program.\n",
    "- Finally we repeat the last two points until the code achieves what we want."
   ]
  }
 ],
 "metadata": {
  "jupytext": {
   "cell_metadata_filter": "-all",
   "formats": "md:myst",
   "text_representation": {
    "extension": ".md",
    "format_name": "myst",
    "format_version": 0.12,
    "jupytext_version": "1.6.0"
   }
  },
  "kernelspec": {
   "display_name": "Python 3",
   "language": "python",
   "name": "python3"
  },
  "language_info": {
   "codemirror_mode": {
    "name": "ipython",
    "version": 3
   },
   "file_extension": ".py",
   "mimetype": "text/x-python",
   "name": "python",
   "nbconvert_exporter": "python",
   "pygments_lexer": "ipython3",
   "version": "3.7.4"
  },
  "source_map": [
   7
  ]
 },
 "nbformat": 4,
 "nbformat_minor": 4
}